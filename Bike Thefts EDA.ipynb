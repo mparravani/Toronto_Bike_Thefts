{
 "cells": [
  {
   "cell_type": "markdown",
   "metadata": {},
   "source": [
    "# Toronto Bike Thefts\n",
    "Analyzing data collected by Toronto Police Service on Bike Thefts\n",
    "Data available: https://data.torontopolice.on.ca/datasets/bicycle-thefts/geoservice"
   ]
  },
  {
   "cell_type": "code",
   "execution_count": 65,
   "metadata": {},
   "outputs": [],
   "source": [
    "import pandas as pd\n",
    "import numpy as np\n",
    "import sklearn as sk\n",
    "import datetime as dt\n",
    "import matplotlib.pyplot as plt\n",
    "import seaborn as sns"
   ]
  },
  {
   "cell_type": "markdown",
   "metadata": {},
   "source": [
    "## Data Import & Cleaning"
   ]
  },
  {
   "cell_type": "code",
   "execution_count": 66,
   "metadata": {},
   "outputs": [],
   "source": [
    "#Import data from site\n",
    "url = 'https://opendata.arcgis.com/datasets/22bfc3619d69447fadd984fcf77a5550_0.csv?outSR=%7B%22latestWkid%22%3A3857%2C%22wkid%22%3A102100%7D'\n",
    "bike_thefts = pd.read_csv(url,parse_dates=True)\n"
   ]
  },
  {
   "cell_type": "code",
   "execution_count": 67,
   "metadata": {},
   "outputs": [
    {
     "data": {
      "text/html": [
       "<div>\n",
       "<style scoped>\n",
       "    .dataframe tbody tr th:only-of-type {\n",
       "        vertical-align: middle;\n",
       "    }\n",
       "\n",
       "    .dataframe tbody tr th {\n",
       "        vertical-align: top;\n",
       "    }\n",
       "\n",
       "    .dataframe thead th {\n",
       "        text-align: right;\n",
       "    }\n",
       "</style>\n",
       "<table border=\"1\" class=\"dataframe\">\n",
       "  <thead>\n",
       "    <tr style=\"text-align: right;\">\n",
       "      <th></th>\n",
       "      <th>count</th>\n",
       "      <th>mean</th>\n",
       "      <th>std</th>\n",
       "      <th>min</th>\n",
       "      <th>25%</th>\n",
       "      <th>50%</th>\n",
       "      <th>75%</th>\n",
       "      <th>max</th>\n",
       "    </tr>\n",
       "  </thead>\n",
       "  <tbody>\n",
       "    <tr>\n",
       "      <th>x</th>\n",
       "      <td>17892.0</td>\n",
       "      <td>-79.395403</td>\n",
       "      <td>0.060971</td>\n",
       "      <td>-79.622833</td>\n",
       "      <td>-79.420837</td>\n",
       "      <td>-79.391891</td>\n",
       "      <td>-79.374151</td>\n",
       "      <td>-79.123100</td>\n",
       "    </tr>\n",
       "    <tr>\n",
       "      <th>y</th>\n",
       "      <td>17892.0</td>\n",
       "      <td>43.673087</td>\n",
       "      <td>0.038163</td>\n",
       "      <td>43.587093</td>\n",
       "      <td>43.650410</td>\n",
       "      <td>43.662062</td>\n",
       "      <td>43.679932</td>\n",
       "      <td>43.832707</td>\n",
       "    </tr>\n",
       "    <tr>\n",
       "      <th>index_</th>\n",
       "      <td>17892.0</td>\n",
       "      <td>8947.366588</td>\n",
       "      <td>5165.320104</td>\n",
       "      <td>1.000000</td>\n",
       "      <td>4474.750000</td>\n",
       "      <td>8947.500000</td>\n",
       "      <td>13420.250000</td>\n",
       "      <td>17893.000000</td>\n",
       "    </tr>\n",
       "    <tr>\n",
       "      <th>occurrence_year</th>\n",
       "      <td>17892.0</td>\n",
       "      <td>2016.135144</td>\n",
       "      <td>1.391046</td>\n",
       "      <td>2014.000000</td>\n",
       "      <td>2015.000000</td>\n",
       "      <td>2016.000000</td>\n",
       "      <td>2017.000000</td>\n",
       "      <td>2018.000000</td>\n",
       "    </tr>\n",
       "    <tr>\n",
       "      <th>occurrence_month</th>\n",
       "      <td>17892.0</td>\n",
       "      <td>7.161413</td>\n",
       "      <td>2.501219</td>\n",
       "      <td>1.000000</td>\n",
       "      <td>5.000000</td>\n",
       "      <td>7.000000</td>\n",
       "      <td>9.000000</td>\n",
       "      <td>12.000000</td>\n",
       "    </tr>\n",
       "    <tr>\n",
       "      <th>occurrence_day</th>\n",
       "      <td>17892.0</td>\n",
       "      <td>15.582104</td>\n",
       "      <td>8.532945</td>\n",
       "      <td>1.000000</td>\n",
       "      <td>8.000000</td>\n",
       "      <td>16.000000</td>\n",
       "      <td>23.000000</td>\n",
       "      <td>31.000000</td>\n",
       "    </tr>\n",
       "    <tr>\n",
       "      <th>division</th>\n",
       "      <td>17892.0</td>\n",
       "      <td>37.165940</td>\n",
       "      <td>17.583056</td>\n",
       "      <td>11.000000</td>\n",
       "      <td>14.000000</td>\n",
       "      <td>51.000000</td>\n",
       "      <td>52.000000</td>\n",
       "      <td>55.000000</td>\n",
       "    </tr>\n",
       "    <tr>\n",
       "      <th>bike_speed</th>\n",
       "      <td>17892.0</td>\n",
       "      <td>14.207970</td>\n",
       "      <td>10.692383</td>\n",
       "      <td>0.000000</td>\n",
       "      <td>6.000000</td>\n",
       "      <td>16.000000</td>\n",
       "      <td>21.000000</td>\n",
       "      <td>99.000000</td>\n",
       "    </tr>\n",
       "    <tr>\n",
       "      <th>cost_of_bike</th>\n",
       "      <td>16581.0</td>\n",
       "      <td>913.693854</td>\n",
       "      <td>1370.009931</td>\n",
       "      <td>0.000000</td>\n",
       "      <td>350.000000</td>\n",
       "      <td>600.000000</td>\n",
       "      <td>1000.000000</td>\n",
       "      <td>90021.000000</td>\n",
       "    </tr>\n",
       "    <tr>\n",
       "      <th>hood_id</th>\n",
       "      <td>17892.0</td>\n",
       "      <td>75.722278</td>\n",
       "      <td>24.224830</td>\n",
       "      <td>1.000000</td>\n",
       "      <td>71.000000</td>\n",
       "      <td>77.000000</td>\n",
       "      <td>87.000000</td>\n",
       "      <td>140.000000</td>\n",
       "    </tr>\n",
       "    <tr>\n",
       "      <th>lat</th>\n",
       "      <td>17892.0</td>\n",
       "      <td>43.673087</td>\n",
       "      <td>0.038163</td>\n",
       "      <td>43.587093</td>\n",
       "      <td>43.650410</td>\n",
       "      <td>43.662062</td>\n",
       "      <td>43.679932</td>\n",
       "      <td>43.832707</td>\n",
       "    </tr>\n",
       "    <tr>\n",
       "      <th>long</th>\n",
       "      <td>17892.0</td>\n",
       "      <td>-79.395403</td>\n",
       "      <td>0.060971</td>\n",
       "      <td>-79.622833</td>\n",
       "      <td>-79.420837</td>\n",
       "      <td>-79.391891</td>\n",
       "      <td>-79.374151</td>\n",
       "      <td>-79.123100</td>\n",
       "    </tr>\n",
       "    <tr>\n",
       "      <th>objectid</th>\n",
       "      <td>17892.0</td>\n",
       "      <td>8946.500000</td>\n",
       "      <td>5165.119844</td>\n",
       "      <td>1.000000</td>\n",
       "      <td>4473.750000</td>\n",
       "      <td>8946.500000</td>\n",
       "      <td>13419.250000</td>\n",
       "      <td>17892.000000</td>\n",
       "    </tr>\n",
       "  </tbody>\n",
       "</table>\n",
       "</div>"
      ],
      "text/plain": [
       "                    count         mean          std          min          25%  \\\n",
       "x                 17892.0   -79.395403     0.060971   -79.622833   -79.420837   \n",
       "y                 17892.0    43.673087     0.038163    43.587093    43.650410   \n",
       "index_            17892.0  8947.366588  5165.320104     1.000000  4474.750000   \n",
       "occurrence_year   17892.0  2016.135144     1.391046  2014.000000  2015.000000   \n",
       "occurrence_month  17892.0     7.161413     2.501219     1.000000     5.000000   \n",
       "occurrence_day    17892.0    15.582104     8.532945     1.000000     8.000000   \n",
       "division          17892.0    37.165940    17.583056    11.000000    14.000000   \n",
       "bike_speed        17892.0    14.207970    10.692383     0.000000     6.000000   \n",
       "cost_of_bike      16581.0   913.693854  1370.009931     0.000000   350.000000   \n",
       "hood_id           17892.0    75.722278    24.224830     1.000000    71.000000   \n",
       "lat               17892.0    43.673087     0.038163    43.587093    43.650410   \n",
       "long              17892.0   -79.395403     0.060971   -79.622833   -79.420837   \n",
       "objectid          17892.0  8946.500000  5165.119844     1.000000  4473.750000   \n",
       "\n",
       "                          50%           75%           max  \n",
       "x                  -79.391891    -79.374151    -79.123100  \n",
       "y                   43.662062     43.679932     43.832707  \n",
       "index_            8947.500000  13420.250000  17893.000000  \n",
       "occurrence_year   2016.000000   2017.000000   2018.000000  \n",
       "occurrence_month     7.000000      9.000000     12.000000  \n",
       "occurrence_day      16.000000     23.000000     31.000000  \n",
       "division            51.000000     52.000000     55.000000  \n",
       "bike_speed          16.000000     21.000000     99.000000  \n",
       "cost_of_bike       600.000000   1000.000000  90021.000000  \n",
       "hood_id             77.000000     87.000000    140.000000  \n",
       "lat                 43.662062     43.679932     43.832707  \n",
       "long               -79.391891    -79.374151    -79.123100  \n",
       "objectid          8946.500000  13419.250000  17892.000000  "
      ]
     },
     "execution_count": 67,
     "metadata": {},
     "output_type": "execute_result"
    }
   ],
   "source": [
    "#make all column titles lowercase\n",
    "bike_thefts.columns = [x.lower() for x in list(bike_thefts.columns)]\n",
    "\n",
    "\n",
    "#examine distribution of data\n",
    "bike_thefts.describe().T"
   ]
  },
  {
   "cell_type": "markdown",
   "metadata": {},
   "source": [
    "At first glance;\n",
    "It looks as though there is a high number of cited stolen bikes in the year 2016 (from average 'year')    \n",
    "There are likely some data issues with items such as 'bike speed' (max being 99)    \n",
    "I would imagine that bike cost would be over-stated due to insurance reasons.     \n",
    "x/y and lat/long seem to be duplicates of eachother    "
   ]
  },
  {
   "cell_type": "code",
   "execution_count": 68,
   "metadata": {},
   "outputs": [
    {
     "data": {
      "text/plain": [
       "x                   float64\n",
       "y                   float64\n",
       "index_                int64\n",
       "event_unique_id      object\n",
       "primary_offence      object\n",
       "occurrence_date      object\n",
       "occurrence_year       int64\n",
       "occurrence_month      int64\n",
       "occurrence_day        int64\n",
       "occurrence_time      object\n",
       "division              int64\n",
       "city                 object\n",
       "location_type        object\n",
       "premise_type         object\n",
       "bike_make            object\n",
       "bike_model           object\n",
       "bike_type            object\n",
       "bike_speed            int64\n",
       "bike_colour          object\n",
       "cost_of_bike        float64\n",
       "status               object\n",
       "neighbourhood        object\n",
       "hood_id               int64\n",
       "lat                 float64\n",
       "long                float64\n",
       "objectid              int64\n",
       "dtype: object"
      ]
     },
     "execution_count": 68,
     "metadata": {},
     "output_type": "execute_result"
    }
   ],
   "source": [
    "#check data types\n",
    "bike_thefts.dtypes"
   ]
  },
  {
   "cell_type": "code",
   "execution_count": 69,
   "metadata": {},
   "outputs": [],
   "source": [
    "#some of these columns can be dropped, \n",
    "bike_thefts.drop(columns = ['x','y','index_','objectid'], inplace=True)\n",
    "\n",
    "#convert date to datetime type and calulcate Hour)\n",
    "bike_thefts['occurrence_date'] = pd.to_datetime(bike_thefts['occurrence_date'], infer_datetime_format=True)\n",
    "bike_thefts['hour'] = pd.to_datetime(bike_thefts['occurrence_time'],format= '%H:%M').dt.hour"
   ]
  },
  {
   "cell_type": "code",
   "execution_count": 106,
   "metadata": {},
   "outputs": [],
   "source": [
    "#make all object columns lowercase \n",
    "str_cols = bike_thefts.select_dtypes(include='object').columns\n",
    "bike_thefts[str_cols] = bike_thefts[str_cols].apply(lambda x: x.str.lower())"
   ]
  },
  {
   "cell_type": "code",
   "execution_count": 107,
   "metadata": {},
   "outputs": [
    {
     "data": {
      "text/plain": [
       "unknown           7628\n",
       "giant             1590\n",
       "trek              1321\n",
       "supercycle         924\n",
       "norco              916\n",
       "ccm                706\n",
       "raleigh            526\n",
       "cannondale         511\n",
       "kona               410\n",
       "specialized        381\n",
       "gt                 298\n",
       "emmo               287\n",
       "rocky mountain     248\n",
       "fuji               236\n",
       "marino             203\n",
       "khs                195\n",
       "schwinn            162\n",
       "diamondback        111\n",
       "bianchi            106\n",
       "devinci             84\n",
       "gf                  76\n",
       "peugeot             75\n",
       "jamis               65\n",
       "cervelo             63\n",
       "hf                  54\n",
       "opus                51\n",
       "miele               49\n",
       "in                  47\n",
       "scott               44\n",
       "next                39\n",
       "felt                35\n",
       "huffy               34\n",
       "mo                  32\n",
       "ih                  30\n",
       "gary fisher         29\n",
       "mongoose            29\n",
       "nakamura            28\n",
       "daymak              25\n",
       "unk                 23\n",
       "fortress            22\n",
       "brodie              22\n",
       "louis garneau       21\n",
       "iron horse          21\n",
       "infinity            18\n",
       "sp                  16\n",
       "masi                15\n",
       "sportek             14\n",
       "aquila              13\n",
       "cr                  13\n",
       "kona\\               12\n",
       "argon 18            12\n",
       "linus               11\n",
       "surly               11\n",
       "Name: bike_make, dtype: int64"
      ]
     },
     "execution_count": 107,
     "metadata": {},
     "output_type": "execute_result"
    }
   ],
   "source": [
    "#check for bike make types\n",
    "bike_thefts.bike_make.value_counts()"
   ]
  },
  {
   "cell_type": "code",
   "execution_count": 71,
   "metadata": {},
   "outputs": [],
   "source": [
    "#from above, assume the following map to Unknown / Other\n",
    "unknown_make = ['ot','uk','other','unknown make','unknown','na','bike','none']\n",
    "\n",
    "bike_thefts.bike_make=bike_thefts.bike_make.apply(lambda x: 'unknown' if x in unknown_make else x) "
   ]
  },
  {
   "cell_type": "code",
   "execution_count": 72,
   "metadata": {},
   "outputs": [],
   "source": [
    "#Attempt to consolidate some of the bike makes\n",
    "make_replace_map = {'gi':'giant',\n",
    "                   'giant`':'giant',\n",
    "                   'tr':'trek',\n",
    "                   'no':'norco',\n",
    "                   'sc':'supercycle',\n",
    "                   'ca':'cannondale',\n",
    "                   'ra':'raleigh',\n",
    "                   'su':'supercycle',\n",
    "                   'cc':'ccm',\n",
    "                   'specilaised':'specalized',\n",
    "                   'specilaized':'specalized',\n",
    "                   'rm':'rocky mountain',\n",
    "                   'marin or marino':'marino',\n",
    "                   'mirraco': 'marino',\n",
    "                   'kh':'khs',\n",
    "                   'ma':'marino',\n",
    "                   'fj':'fuji',\n",
    "                   'ko':'kona',\n",
    "                   'em':'emmo',\n",
    "                    'cona':'kona',\n",
    "                    'cannandale':'cannondale',\n",
    "                    'gaint':'giant',\n",
    "                    'db':'diamondback',\n",
    "                    'bi':'bianchi',\n",
    "                    'pe':'peugeot',\n",
    "                    'trak':'trek',\n",
    "                    'mountain co-op':'mec',\n",
    "                    'raleigt':'raleigh'\n",
    "                    }\n",
    "bike_thefts.bike_make=bike_thefts.bike_make.replace(make_replace_map)\n"
   ]
  },
  {
   "cell_type": "code",
   "execution_count": 73,
   "metadata": {},
   "outputs": [
    {
     "data": {
      "image/png": "[encoded data removed]",
      "text/plain": [
       "<Figure size 1080x576 with 1 Axes>"
      ]
     },
     "metadata": {
      "needs_background": "light"
     },
     "output_type": "display_data"
    }
   ],
   "source": [
    "#check for repetition of bike makes\n",
    "fig,ax = plt.subplots(figsize = (15,8))\n",
    "plt.plot(list(bike_thefts.bike_make.value_counts()))\n",
    "ax.set_title('Distribution of Bike Make Frequency')\n",
    "ax.set_xlabel('List Item Number')\n",
    "ax.set_ylabel('Number of Repetitions')\n",
    "\n",
    "plt.show()"
   ]
  },
  {
   "cell_type": "markdown",
   "metadata": {},
   "source": [
    "Seems as though there is few bike makes with >10 repetitions, and many with very few repetitions (could be spelling errors)    \n",
    "I will opt to replace all these items with 'unknown' --> as their current tag is not valuable.\n"
   ]
  },
  {
   "cell_type": "code",
   "execution_count": 74,
   "metadata": {},
   "outputs": [],
   "source": [
    "#replace low frequency bike makes with 'unknown'\n",
    "bike_thefts.loc[bike_thefts.bike_make.value_counts()[bike_thefts.bike_make].values < 10, 'bike_make']='unknown'"
   ]
  },
  {
   "cell_type": "code",
   "execution_count": 83,
   "metadata": {},
   "outputs": [
    {
     "data": {
      "image/png": "[encoded data removed]",
      "text/plain": [
       "<Figure size 1080x576 with 1 Axes>"
      ]
     },
     "metadata": {
      "needs_background": "light"
     },
     "output_type": "display_data"
    }
   ],
   "source": [
    "#check distribution of prices\n",
    "fig,ax = plt.subplots(figsize = (15,8))\n",
    "sns.violinplot(bike_thefts.cost_of_bike)\n",
    "ax.set_title('Distribution of Bike Cost')\n",
    "ax.set_ylabel('Bike Cost')\n",
    "\n",
    "plt.show()"
   ]
  },
  {
   "cell_type": "code",
   "execution_count": 84,
   "metadata": {},
   "outputs": [],
   "source": [
    "#replace NAs with 0\n",
    "bike_thefts.cost_of_bike.fillna(0,inplace=True)\n",
    "\n",
    "#replace outliers (over 99.5 percentile value) with the 99.5 percentile\n",
    "outlier_cutoff=np.percentile(bike_thefts.cost_of_bike,99.5)\n",
    "bike_thefts.cost_of_bike= bike_thefts.cost_of_bike.apply(lambda x:outlier_cutoff if x>=outlier_cutoff else x)"
   ]
  },
  {
   "cell_type": "code",
   "execution_count": 85,
   "metadata": {},
   "outputs": [
    {
     "data": {
      "image/png": "[encoded data removed]",
      "text/plain": [
       "<Figure size 1080x576 with 1 Axes>"
      ]
     },
     "metadata": {
      "needs_background": "light"
     },
     "output_type": "display_data"
    }
   ],
   "source": [
    "#check distribution of prices\n",
    "fig,ax = plt.subplots(figsize = (15,8))\n",
    "sns.violinplot(bike_thefts.cost_of_bike)\n",
    "ax.set_title('Distribution of Bike Cost')\n",
    "ax.set_ylabel('Bike Cost')\n",
    "\n",
    "plt.show()"
   ]
  },
  {
   "cell_type": "code",
   "execution_count": 91,
   "metadata": {},
   "outputs": [
    {
     "data": {
      "text/plain": [
       "streets, roads, highways (bicycle path, private road)                     3904\n",
       "apartment (rooming house, condo)                                          3462\n",
       "single home, house (attach garage, cottage, mobile)                       2940\n",
       "parking lots (apt., commercial or non-commercial)                         1686\n",
       "other commercial / corporate places (for profit, warehouse, corp. bldg    1657\n",
       "private property (pool, shed, detached garage)                            1362\n",
       "universities / colleges                                                    564\n",
       "open areas (lakes, parks, rivers)                                          317\n",
       "bar / restaurant                                                           276\n",
       "other non commercial / corporate places (non-profit, gov't, firehall)      261\n",
       "schools during supervised activity                                         228\n",
       "ttc subway station                                                         209\n",
       "hospital / institutions / medical facilities (clinic, dentist, morgue)     201\n",
       "schools during un-supervised activity                                      176\n",
       "go station                                                                 128\n",
       "bank and other financial institutions (money mart, tsx)                     97\n",
       "convenience stores                                                          90\n",
       "unknown                                                                     87\n",
       "commercial dwelling unit (hotel, motel, b & b, short term rental)           50\n",
       "police / courts (parole board, probation office)                            38\n",
       "construction site (warehouse, trailer, shed)                                27\n",
       "religious facilities (synagogue, church, convent, mosque)                   27\n",
       "group homes (non-profit, halfway house, social agency)                      24\n",
       "gas station (self, full, attached convenience)                              17\n",
       "homeless shelter / mission                                                  16\n",
       "dealership (car, motorcycle, marine, trailer, etc.)                          8\n",
       "ttc bus stop / shelter / loop                                                6\n",
       "ttc bus                                                                      5\n",
       "go train                                                                     4\n",
       "other regional transit system vehicle                                        3\n",
       "go bus                                                                       3\n",
       "ttc admin or support facility                                                3\n",
       "ttc light rail transit station                                               3\n",
       "other passenger train station                                                2\n",
       "ttc subway train                                                             2\n",
       "jails / detention centres                                                    2\n",
       "retirement / nursing homes                                                   2\n",
       "other passenger train                                                        1\n",
       "other train admin or support facility                                        1\n",
       "pharmacy                                                                     1\n",
       "other train tracks                                                           1\n",
       "retirement home                                                              1\n",
       "Name: location_type, dtype: int64"
      ]
     },
     "execution_count": 91,
     "metadata": {},
     "output_type": "execute_result"
    }
   ],
   "source": [
    "#What is the consolidation of location types\n",
    "bike_thefts.location_type.value_counts()"
   ]
  },
  {
   "cell_type": "code",
   "execution_count": 97,
   "metadata": {},
   "outputs": [
    {
     "data": {
      "text/plain": [
       "streets, roads, highways (bicycle path, private road)                     3904\n",
       "apartment (rooming house, condo)                                          3462\n",
       "single home, house (attach garage, cottage, mobile)                       2940\n",
       "parking lots (apt., commercial or non-commercial)                         1686\n",
       "other commercial / corporate places (for profit, warehouse, corp. bldg    1657\n",
       "private property (pool, shed, detached garage)                            1362\n",
       "universities / colleges                                                    564\n",
       "transit                                                                    371\n",
       "open areas (lakes, parks, rivers)                                          317\n",
       "bar / restaurant                                                           276\n",
       "other non commercial / corporate places (non-profit, gov't, firehall)      261\n",
       "schools during supervised activity                                         228\n",
       "hospital / institutions / medical facilities (clinic, dentist, morgue)     201\n",
       "schools during un-supervised activity                                      176\n",
       "bank and other financial institutions (money mart, tsx)                     97\n",
       "convenience stores                                                          90\n",
       "unknown                                                                     87\n",
       "commercial dwelling unit (hotel, motel, b & b, short term rental)           50\n",
       "police / courts (parole board, probation office)                            38\n",
       "construction site (warehouse, trailer, shed)                                27\n",
       "religious facilities (synagogue, church, convent, mosque)                   27\n",
       "group homes (non-profit, halfway house, social agency)                      24\n",
       "gas station (self, full, attached convenience)                              17\n",
       "homeless shelter / mission                                                  16\n",
       "dealership (car, motorcycle, marine, trailer, etc.)                          8\n",
       "jails / detention centres                                                    2\n",
       "retirement / nursing homes                                                   2\n",
       "retirement home                                                              1\n",
       "pharmacy                                                                     1\n",
       "Name: location_type, dtype: int64"
      ]
     },
     "execution_count": 97,
     "metadata": {},
     "output_type": "execute_result"
    }
   ],
   "source": [
    "#consolidate location_type for all transit oriented items\n",
    "transit_words = ['ttc','go ',' train',' transit']\n",
    "\n",
    "bike_thefts.location_type.apply(lambda str: 'transit' if any(x in str for x in transit_words) else str).value_counts()"
   ]
  },
  {
   "cell_type": "code",
   "execution_count": 108,
   "metadata": {},
   "outputs": [
    {
     "data": {
      "text/plain": [
       "outside       5913\n",
       "apartment     3462\n",
       "other         3355\n",
       "house         2940\n",
       "commercial    2222\n",
       "Name: premise_type, dtype: int64"
      ]
     },
     "execution_count": 108,
     "metadata": {},
     "output_type": "execute_result"
    }
   ],
   "source": [
    "bike_thefts.premise_type.value_counts()\n"
   ]
  },
  {
   "cell_type": "code",
   "execution_count": null,
   "metadata": {},
   "outputs": [],
   "source": []
  }
 ],
 "metadata": {
  "kernelspec": {
   "display_name": "Python 3",
   "language": "python",
   "name": "python3"
  },
  "language_info": {
   "codemirror_mode": {
    "name": "ipython",
    "version": 3
   },
   "file_extension": ".py",
   "mimetype": "text/x-python",
   "name": "python",
   "nbconvert_exporter": "python",
   "pygments_lexer": "ipython3",
   "version": "3.7.3"
  }
 },
 "nbformat": 4,
 "nbformat_minor": 2
}
