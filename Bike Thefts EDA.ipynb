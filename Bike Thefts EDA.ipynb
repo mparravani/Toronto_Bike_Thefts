{
 "cells": [
  {
   "cell_type": "markdown",
   "metadata": {},
   "source": [
    "# Toronto Bike Thefts\n",
    "Analyzing data collected by Toronto Police Service on Bike Thefts\n",
    "Data available: https://data.torontopolice.on.ca/datasets/bicycle-thefts/geoservice"
   ]
  },
  {
   "cell_type": "code",
   "execution_count": 12,
   "metadata": {},
   "outputs": [],
   "source": [
    "import pandas as pd\n",
    "import numpy as np\n",
    "import sklearn as sk\n",
    "import datetime as dt\n",
    "import matplotlib.pyplot as plt\n",
    "import seaborn as sns"
   ]
  },
  {
   "cell_type": "markdown",
   "metadata": {},
   "source": [
    "## Data Import & Cleaning"
   ]
  },
  {
   "cell_type": "code",
   "execution_count": 2,
   "metadata": {},
   "outputs": [],
   "source": [
    "#Import data from site\n",
    "url = 'https://opendata.arcgis.com/datasets/22bfc3619d69447fadd984fcf77a5550_0.csv?outSR=%7B%22latestWkid%22%3A3857%2C%22wkid%22%3A102100%7D'\n",
    "bike_thefts = pd.read_csv(url,parse_dates=True)\n"
   ]
  },
  {
   "cell_type": "code",
   "execution_count": 3,
   "metadata": {},
   "outputs": [
    {
     "data": {
      "text/html": [
       "<div>\n",
       "<style scoped>\n",
       "    .dataframe tbody tr th:only-of-type {\n",
       "        vertical-align: middle;\n",
       "    }\n",
       "\n",
       "    .dataframe tbody tr th {\n",
       "        vertical-align: top;\n",
       "    }\n",
       "\n",
       "    .dataframe thead th {\n",
       "        text-align: right;\n",
       "    }\n",
       "</style>\n",
       "<table border=\"1\" class=\"dataframe\">\n",
       "  <thead>\n",
       "    <tr style=\"text-align: right;\">\n",
       "      <th></th>\n",
       "      <th>count</th>\n",
       "      <th>mean</th>\n",
       "      <th>std</th>\n",
       "      <th>min</th>\n",
       "      <th>25%</th>\n",
       "      <th>50%</th>\n",
       "      <th>75%</th>\n",
       "      <th>max</th>\n",
       "    </tr>\n",
       "  </thead>\n",
       "  <tbody>\n",
       "    <tr>\n",
       "      <th>x</th>\n",
       "      <td>17892.0</td>\n",
       "      <td>-79.395403</td>\n",
       "      <td>0.060971</td>\n",
       "      <td>-79.622833</td>\n",
       "      <td>-79.420837</td>\n",
       "      <td>-79.391891</td>\n",
       "      <td>-79.374151</td>\n",
       "      <td>-79.123100</td>\n",
       "    </tr>\n",
       "    <tr>\n",
       "      <th>y</th>\n",
       "      <td>17892.0</td>\n",
       "      <td>43.673087</td>\n",
       "      <td>0.038163</td>\n",
       "      <td>43.587093</td>\n",
       "      <td>43.650410</td>\n",
       "      <td>43.662062</td>\n",
       "      <td>43.679932</td>\n",
       "      <td>43.832707</td>\n",
       "    </tr>\n",
       "    <tr>\n",
       "      <th>index_</th>\n",
       "      <td>17892.0</td>\n",
       "      <td>8947.366588</td>\n",
       "      <td>5165.320104</td>\n",
       "      <td>1.000000</td>\n",
       "      <td>4474.750000</td>\n",
       "      <td>8947.500000</td>\n",
       "      <td>13420.250000</td>\n",
       "      <td>17893.000000</td>\n",
       "    </tr>\n",
       "    <tr>\n",
       "      <th>occurrence_year</th>\n",
       "      <td>17892.0</td>\n",
       "      <td>2016.135144</td>\n",
       "      <td>1.391046</td>\n",
       "      <td>2014.000000</td>\n",
       "      <td>2015.000000</td>\n",
       "      <td>2016.000000</td>\n",
       "      <td>2017.000000</td>\n",
       "      <td>2018.000000</td>\n",
       "    </tr>\n",
       "    <tr>\n",
       "      <th>occurrence_month</th>\n",
       "      <td>17892.0</td>\n",
       "      <td>7.161413</td>\n",
       "      <td>2.501219</td>\n",
       "      <td>1.000000</td>\n",
       "      <td>5.000000</td>\n",
       "      <td>7.000000</td>\n",
       "      <td>9.000000</td>\n",
       "      <td>12.000000</td>\n",
       "    </tr>\n",
       "    <tr>\n",
       "      <th>occurrence_day</th>\n",
       "      <td>17892.0</td>\n",
       "      <td>15.582104</td>\n",
       "      <td>8.532945</td>\n",
       "      <td>1.000000</td>\n",
       "      <td>8.000000</td>\n",
       "      <td>16.000000</td>\n",
       "      <td>23.000000</td>\n",
       "      <td>31.000000</td>\n",
       "    </tr>\n",
       "    <tr>\n",
       "      <th>division</th>\n",
       "      <td>17892.0</td>\n",
       "      <td>37.165940</td>\n",
       "      <td>17.583056</td>\n",
       "      <td>11.000000</td>\n",
       "      <td>14.000000</td>\n",
       "      <td>51.000000</td>\n",
       "      <td>52.000000</td>\n",
       "      <td>55.000000</td>\n",
       "    </tr>\n",
       "    <tr>\n",
       "      <th>bike_speed</th>\n",
       "      <td>17892.0</td>\n",
       "      <td>14.207970</td>\n",
       "      <td>10.692383</td>\n",
       "      <td>0.000000</td>\n",
       "      <td>6.000000</td>\n",
       "      <td>16.000000</td>\n",
       "      <td>21.000000</td>\n",
       "      <td>99.000000</td>\n",
       "    </tr>\n",
       "    <tr>\n",
       "      <th>cost_of_bike</th>\n",
       "      <td>16581.0</td>\n",
       "      <td>913.693854</td>\n",
       "      <td>1370.009931</td>\n",
       "      <td>0.000000</td>\n",
       "      <td>350.000000</td>\n",
       "      <td>600.000000</td>\n",
       "      <td>1000.000000</td>\n",
       "      <td>90021.000000</td>\n",
       "    </tr>\n",
       "    <tr>\n",
       "      <th>hood_id</th>\n",
       "      <td>17892.0</td>\n",
       "      <td>75.722278</td>\n",
       "      <td>24.224830</td>\n",
       "      <td>1.000000</td>\n",
       "      <td>71.000000</td>\n",
       "      <td>77.000000</td>\n",
       "      <td>87.000000</td>\n",
       "      <td>140.000000</td>\n",
       "    </tr>\n",
       "    <tr>\n",
       "      <th>lat</th>\n",
       "      <td>17892.0</td>\n",
       "      <td>43.673087</td>\n",
       "      <td>0.038163</td>\n",
       "      <td>43.587093</td>\n",
       "      <td>43.650410</td>\n",
       "      <td>43.662062</td>\n",
       "      <td>43.679932</td>\n",
       "      <td>43.832707</td>\n",
       "    </tr>\n",
       "    <tr>\n",
       "      <th>long</th>\n",
       "      <td>17892.0</td>\n",
       "      <td>-79.395403</td>\n",
       "      <td>0.060971</td>\n",
       "      <td>-79.622833</td>\n",
       "      <td>-79.420837</td>\n",
       "      <td>-79.391891</td>\n",
       "      <td>-79.374151</td>\n",
       "      <td>-79.123100</td>\n",
       "    </tr>\n",
       "    <tr>\n",
       "      <th>objectid</th>\n",
       "      <td>17892.0</td>\n",
       "      <td>8946.500000</td>\n",
       "      <td>5165.119844</td>\n",
       "      <td>1.000000</td>\n",
       "      <td>4473.750000</td>\n",
       "      <td>8946.500000</td>\n",
       "      <td>13419.250000</td>\n",
       "      <td>17892.000000</td>\n",
       "    </tr>\n",
       "  </tbody>\n",
       "</table>\n",
       "</div>"
      ],
      "text/plain": [
       "                    count         mean          std          min          25%  \\\n",
       "x                 17892.0   -79.395403     0.060971   -79.622833   -79.420837   \n",
       "y                 17892.0    43.673087     0.038163    43.587093    43.650410   \n",
       "index_            17892.0  8947.366588  5165.320104     1.000000  4474.750000   \n",
       "occurrence_year   17892.0  2016.135144     1.391046  2014.000000  2015.000000   \n",
       "occurrence_month  17892.0     7.161413     2.501219     1.000000     5.000000   \n",
       "occurrence_day    17892.0    15.582104     8.532945     1.000000     8.000000   \n",
       "division          17892.0    37.165940    17.583056    11.000000    14.000000   \n",
       "bike_speed        17892.0    14.207970    10.692383     0.000000     6.000000   \n",
       "cost_of_bike      16581.0   913.693854  1370.009931     0.000000   350.000000   \n",
       "hood_id           17892.0    75.722278    24.224830     1.000000    71.000000   \n",
       "lat               17892.0    43.673087     0.038163    43.587093    43.650410   \n",
       "long              17892.0   -79.395403     0.060971   -79.622833   -79.420837   \n",
       "objectid          17892.0  8946.500000  5165.119844     1.000000  4473.750000   \n",
       "\n",
       "                          50%           75%           max  \n",
       "x                  -79.391891    -79.374151    -79.123100  \n",
       "y                   43.662062     43.679932     43.832707  \n",
       "index_            8947.500000  13420.250000  17893.000000  \n",
       "occurrence_year   2016.000000   2017.000000   2018.000000  \n",
       "occurrence_month     7.000000      9.000000     12.000000  \n",
       "occurrence_day      16.000000     23.000000     31.000000  \n",
       "division            51.000000     52.000000     55.000000  \n",
       "bike_speed          16.000000     21.000000     99.000000  \n",
       "cost_of_bike       600.000000   1000.000000  90021.000000  \n",
       "hood_id             77.000000     87.000000    140.000000  \n",
       "lat                 43.662062     43.679932     43.832707  \n",
       "long               -79.391891    -79.374151    -79.123100  \n",
       "objectid          8946.500000  13419.250000  17892.000000  "
      ]
     },
     "execution_count": 3,
     "metadata": {},
     "output_type": "execute_result"
    }
   ],
   "source": [
    "#make all column titles lowercase\n",
    "bike_thefts.columns = [x.lower() for x in list(bike_thefts.columns)]\n",
    "\n",
    "#examine distribution of data\n",
    "bike_thefts.describe().T"
   ]
  },
  {
   "cell_type": "markdown",
   "metadata": {},
   "source": [
    "At first glance;\n",
    "It looks as though there is a high number of cited stolen bikes in the year 2016 (from average 'year')    \n",
    "There are likely some data issues with items such as 'bike speed' (max being 99)    \n",
    "I would imagine that bike cost would be over-stated due to insurance reasons.     \n",
    "x/y and lat/long seem to be duplicates of eachother    "
   ]
  },
  {
   "cell_type": "code",
   "execution_count": 4,
   "metadata": {},
   "outputs": [
    {
     "data": {
      "text/plain": [
       "x                   float64\n",
       "y                   float64\n",
       "index_                int64\n",
       "event_unique_id      object\n",
       "primary_offence      object\n",
       "occurrence_date      object\n",
       "occurrence_year       int64\n",
       "occurrence_month      int64\n",
       "occurrence_day        int64\n",
       "occurrence_time      object\n",
       "division              int64\n",
       "city                 object\n",
       "location_type        object\n",
       "premise_type         object\n",
       "bike_make            object\n",
       "bike_model           object\n",
       "bike_type            object\n",
       "bike_speed            int64\n",
       "bike_colour          object\n",
       "cost_of_bike        float64\n",
       "status               object\n",
       "neighbourhood        object\n",
       "hood_id               int64\n",
       "lat                 float64\n",
       "long                float64\n",
       "objectid              int64\n",
       "dtype: object"
      ]
     },
     "execution_count": 4,
     "metadata": {},
     "output_type": "execute_result"
    }
   ],
   "source": [
    "#check data types\n",
    "bike_thefts.dtypes"
   ]
  },
  {
   "cell_type": "code",
   "execution_count": 5,
   "metadata": {},
   "outputs": [],
   "source": [
    "#some of these columns can be dropped, \n",
    "bike_thefts.drop(columns = ['x','y','index_','objectid'], inplace=True)\n",
    "\n",
    "#convert date to datetime type and calulcate Hour)\n",
    "bike_thefts['occurrence_date'] = pd.to_datetime(bike_thefts['occurrence_date'], infer_datetime_format=True)\n",
    "bike_thefts['hour'] = pd.to_datetime(bike_thefts['occurrence_time'],format= '%H:%M').dt.hour"
   ]
  },
  {
   "cell_type": "code",
   "execution_count": 6,
   "metadata": {},
   "outputs": [
    {
     "data": {
      "text/plain": [
       "OT                 3395\n",
       "UK                 1446\n",
       "OTHER              1212\n",
       "GI                 1140\n",
       "TR                  926\n",
       "NO                  665\n",
       "GIANT               447\n",
       "UNKNOWN MAKE        427\n",
       "CC                  422\n",
       "TREK                394\n",
       "SPECIALIZED         381\n",
       "SC                  380\n",
       "CA                  358\n",
       "RA                  349\n",
       "SU                  328\n",
       "KO                  311\n",
       "GT                  298\n",
       "CCM                 284\n",
       "NORCO               251\n",
       "SUPERCYCLE          216\n",
       "EMMO                185\n",
       "UNKNOWN             178\n",
       "FJ                  176\n",
       "RALEIGH             176\n",
       "RM                  174\n",
       "SCHWINN             162\n",
       "CANNONDALE          151\n",
       "MA                  150\n",
       "KH                  140\n",
       "EM                  102\n",
       "                   ... \n",
       "DIABLE                1\n",
       "WEST COAST            1\n",
       "PIVOT                 1\n",
       "TELLURIDE             1\n",
       "NIRVE                 1\n",
       "DLO                   1\n",
       "ORANGE                1\n",
       "BLACKBALL             1\n",
       "SHCWINN               1\n",
       "KOTTER                1\n",
       "SMART                 1\n",
       "SATORI ALUMINUM       1\n",
       "MACNIEL               1\n",
       "AUSTIN                1\n",
       "DAWES                 1\n",
       "EASY RIDER            1\n",
       "WIKE                  1\n",
       "TOBA                  1\n",
       "AGGRESSER             1\n",
       "TIAN NE NG            1\n",
       "MERIDA                1\n",
       "ECO                   1\n",
       "DAHLON                1\n",
       "MOLTEN                1\n",
       "SPECIALISED           1\n",
       "META                  1\n",
       "KALKHOFF              1\n",
       "SE RACING             1\n",
       "SELLE ROYAL           1\n",
       "NEO                   1\n",
       "Name: bike_make, Length: 646, dtype: int64"
      ]
     },
     "execution_count": 6,
     "metadata": {},
     "output_type": "execute_result"
    }
   ],
   "source": [
    "#check for bike make types\n",
    "bike_thefts.bike_make.value_counts()"
   ]
  },
  {
   "cell_type": "code",
   "execution_count": 7,
   "metadata": {},
   "outputs": [],
   "source": [
    "#from above, assume the following map to Unknown / Other\n",
    "unknown_make = ['ot','uk','other','unknown make','unknown','na','bike','none']\n",
    "\n",
    "bike_thefts.bike_make=bike_thefts.bike_make.apply(lambda x: x.strip().lower())\n",
    "bike_thefts.bike_make=bike_thefts.bike_make.apply(lambda x: 'unknown' if x in unknown_make else x) "
   ]
  },
  {
   "cell_type": "code",
   "execution_count": 8,
   "metadata": {},
   "outputs": [],
   "source": [
    "#Attempt to consolidate some of the bike makes\n",
    "make_replace_map = {'gi':'giant',\n",
    "                   'giant`':'giant',\n",
    "                   'tr':'trek',\n",
    "                   'no':'norco',\n",
    "                   'sc':'supercycle',\n",
    "                   'ca':'cannondale',\n",
    "                   'ra':'raleigh',\n",
    "                   'su':'supercycle',\n",
    "                   'cc':'ccm',\n",
    "                   'specilaised':'specalized',\n",
    "                   'specilaized':'specalized',\n",
    "                   'rm':'rocky mountain',\n",
    "                   'marin or marino':'marino',\n",
    "                   'mirraco': 'marino',\n",
    "                   'kh':'khs',\n",
    "                   'ma':'marino',\n",
    "                   'fj':'fuji',\n",
    "                   'ko':'kona',\n",
    "                   'em':'emmo',\n",
    "                    'cona':'kona',\n",
    "                    'cannandale':'cannondale',\n",
    "                    'gaint':'giant',\n",
    "                    'db':'diamondback',\n",
    "                    'bi':'bianchi',\n",
    "                    'pe':'peugeot',\n",
    "                    'trak':'trek',\n",
    "                    'mountain co-op':'mec',\n",
    "                    'raleigt':'raleigh'\n",
    "                    }\n",
    "bike_thefts.bike_make=bike_thefts.bike_make.replace(make_replace_map)\n"
   ]
  },
  {
   "cell_type": "code",
   "execution_count": 9,
   "metadata": {},
   "outputs": [
    {
     "data": {
      "image/png": "[encoded data removed]",
      "text/plain": [
       "<Figure size 432x288 with 1 Axes>"
      ]
     },
     "metadata": {
      "needs_background": "light"
     },
     "output_type": "display_data"
    }
   ],
   "source": [
    "#check for repetition of bike makes\n",
    "plt.plot(list(bike_thefts.bike_make.value_counts()))\n",
    "plt.show()"
   ]
  },
  {
   "cell_type": "markdown",
   "metadata": {},
   "source": [
    "Seems as though there is few bike makes with >10 repetitions, and many with very few repetitions (could be spelling errors)    \n",
    "I will opt to replace all these items with 'unknown' --> as their current tag is not valuable.\n"
   ]
  },
  {
   "cell_type": "code",
   "execution_count": 10,
   "metadata": {},
   "outputs": [],
   "source": [
    "#replace low frequency bike makes with 'unknown'\n",
    "bike_thefts.loc[bike_thefts.bike_make.value_counts()[bike_thefts.bike_make].values < 10, 'bike_make']='unknown'"
   ]
  },
  {
   "cell_type": "code",
   "execution_count": 19,
   "metadata": {},
   "outputs": [
    {
     "data": {
      "image/png": "[encoded data removed]",
      "text/plain": [
       "<Figure size 432x288 with 1 Axes>"
      ]
     },
     "metadata": {
      "needs_background": "light"
     },
     "output_type": "display_data"
    }
   ],
   "source": [
    "#check distribution of prices\n",
    "plt.hist(bike_thefts.cost_of_bike[bike_thefts.cost_of_bike].dropna())\n",
    "plt.show()"
   ]
  },
  {
   "cell_type": "code",
   "execution_count": 18,
   "metadata": {},
   "outputs": [
    {
     "data": {
      "text/plain": [
       "500.00     1421\n",
       "1000.00     990\n",
       "600.00      978\n",
       "0.00        781\n",
       "800.00      711\n",
       "400.00      711\n",
       "300.00      703\n",
       "700.00      686\n",
       "200.00      639\n",
       "1500.00     529\n",
       "1200.00     417\n",
       "2000.00     376\n",
       "900.00      353\n",
       "100.00      346\n",
       "250.00      333\n",
       "350.00      282\n",
       "150.00      265\n",
       "650.00      237\n",
       "450.00      230\n",
       "750.00      221\n",
       "2500.00     204\n",
       "3000.00     193\n",
       "550.00      188\n",
       "1300.00     149\n",
       "1100.00     140\n",
       "1800.00     125\n",
       "850.00      119\n",
       "1400.00     115\n",
       "1600.00     107\n",
       "50.00        91\n",
       "           ... \n",
       "3399.00       1\n",
       "1228.83       1\n",
       "3275.00       1\n",
       "1203.17       1\n",
       "459.99        1\n",
       "431.63        1\n",
       "1121.00       1\n",
       "203.00        1\n",
       "834.00        1\n",
       "378.00        1\n",
       "1117.57       1\n",
       "823.37        1\n",
       "1140.17       1\n",
       "609.36        1\n",
       "886.00        1\n",
       "1035.00       1\n",
       "824.90        1\n",
       "355.95        1\n",
       "724.88        1\n",
       "43.00         1\n",
       "98.00         1\n",
       "1449.99       1\n",
       "3150.00       1\n",
       "1203.42       1\n",
       "778.57        1\n",
       "1582.00       1\n",
       "128.80        1\n",
       "1649.95       1\n",
       "700.58        1\n",
       "949.99        1\n",
       "Name: cost_of_bike, Length: 1244, dtype: int64"
      ]
     },
     "execution_count": 18,
     "metadata": {},
     "output_type": "execute_result"
    }
   ],
   "source": [
    "bike_thefts.cost_of_bike.value_counts()"
   ]
  },
  {
   "cell_type": "code",
   "execution_count": null,
   "metadata": {},
   "outputs": [],
   "source": []
  },
  {
   "cell_type": "code",
   "execution_count": null,
   "metadata": {},
   "outputs": [],
   "source": []
  }
 ],
 "metadata": {
  "kernelspec": {
   "display_name": "Python 3",
   "language": "python",
   "name": "python3"
  },
  "language_info": {
   "codemirror_mode": {
    "name": "ipython",
    "version": 3
   },
   "file_extension": ".py",
   "mimetype": "text/x-python",
   "name": "python",
   "nbconvert_exporter": "python",
   "pygments_lexer": "ipython3",
   "version": "3.7.3"
  }
 },
 "nbformat": 4,
 "nbformat_minor": 2
}
